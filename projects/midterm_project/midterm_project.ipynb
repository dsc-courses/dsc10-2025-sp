{
 "cells": [
  {
   "cell_type": "markdown",
   "metadata": {},
   "source": [
    "# Midterm Project: Restaurants 🍔🍟\n",
    "\n",
    "## Due Monday, May 5th at 11:59PM"
   ]
  },
  {
   "cell_type": "markdown",
   "metadata": {},
   "source": [
    "Welcome to the Midterm Project! Projects in DSC 10 are similar in format to homeworks, but are different in a few key ways. First, a project is comprehensive, meaning that it draws upon everything we've learned this quarter so far. Second, since problems can vary quite a bit in difficulty, some problems will be worth more points than others. Finally, in a project, the problems are more open-ended; they will usually ask for some result, but won't tell you what method should be used to get it. There might be several equally-valid approaches, and several steps might be necessary. This is closer to how data science is done in \"real life.\"\n",
    "\n",
    "It is important that you **start early** on the project! It will take the place of a homework in the week that it is due, but you should also expect it to take longer than a homework. You are especially encouraged to **find a partner** to work through the project with. If you work in a pair, you must follow the [Project Partner Guidelines](https://dsc10.com/project-partners/) on the course website. In particular, you must work together at the same time, and you are not allowed to split up the project and each work on certain problems. If you work with a partner, only one of you needs to upload your notebook to Gradescope; after uploading, you'll see an option to add the other partner to the submission.\n",
    "\n",
    "**Important:** The `otter` tests don't usually tell you that your answer is correct. More often, they help catch basic mistakes. It's up to you to ensure that your answer is correct. If you're not sure, ask someone (not for the answer, but for some guidance about your approach). Directly sharing answers between groups is not okay, but discussing problems with the course staff or with other students is encouraged.\n",
    "\n",
    "**Please do not use for-loops or import any packages.** Loops in Python are slow, and looping over arrays and DataFrames should usually be avoided in favor of commands that are meant specifically for these objects. This entire project can be done without any loops, using the tools we've learned so far in DSC 10. Please do no import any additional packages - you don't need them, and our autograder may not be able to run your code if you do.\n",
    "\n",
    "As you work through this project, there are a few resources you may want to have open:\n",
    "- [DSC 10 Reference Sheet](https://dsc-courses.github.io/bpd-reference/docs/documentation/intro/)\n",
    "- [`babypandas` notes](https://notes.dsc10.com/front.html)\n",
    "- Other links in the [Resources](https://dsc10.com/resources/) and [Debugging](https://dsc10.com/debugging/) tabs of the course website\n",
    "\n",
    "Start early, good luck, and let's begin! 🏃"
   ]
  },
  {
   "cell_type": "code",
   "execution_count": null,
   "metadata": {},
   "outputs": [],
   "source": [
    "# Please don't change this cell but do run it.\n",
    "import babypandas as bpd\n",
    "import numpy as np\n",
    "import matplotlib.pyplot as plt\n",
    "plt.style.use('ggplot')\n",
    "\n",
    "import otter\n",
    "grader = otter.Notebook()"
   ]
  },
  {
   "cell_type": "markdown",
   "metadata": {},
   "source": [
    "## Outline\n",
    "\n",
    "Use this outline to help you quickly navigate to the part of the project you're working on:\n",
    "- [The Data](#data)    \n",
    "- [Part 1. Chains ⛓️](#part1) \n",
    "    - Questions 1.1 - 1.12    \n",
    "- [Part 2. Cities 🌆](#part2) \n",
    "    - Questions 2.1 - 2.8\n",
    "- [Part 3. Stars ⭐️](#part3) \n",
    "    - Questions 3.1 - 3.6"
   ]
  },
  {
   "cell_type": "markdown",
   "metadata": {},
   "source": [
    "<a id='data'></a>\n",
    "## The Data\n",
    "\n",
    "In this project, we will explore several restaurant rankings from [Restaurant Business](https://www.restaurantbusinessonline.com) (RB), a media brand that provides business intelligence insights for commercial restaurants. The data is a few years old; it was collected in 2022 and includes information on year-end sales from 2021. \n",
    "\n",
    "Our data is split across three different CSV files, each of which contains a different set of restaurants, using a different ranking methodology. Run the cell below to load in our data as DataFrames."
   ]
  },
  {
   "cell_type": "code",
   "execution_count": null,
   "metadata": {},
   "outputs": [],
   "source": [
    "future = bpd.read_csv('data/Future50.csv')\n",
    "\n",
    "independents = bpd.read_csv('data/Independents100.csv')\n",
    "\n",
    "chain_restaurants = bpd.read_csv('data/Top250.csv')"
   ]
  },
  {
   "cell_type": "markdown",
   "metadata": {},
   "source": [
    "The `future` DataFrame contains information about the 50 fastest-growing restaurant chains in the US whose yearly sales are between 25 and 50 million dollars.  Because of the moderate range for yearly sales, the `future` DataFrame does not include restaurant giants like McDonald's and Starbucks. Instead, the restaurant chains in the `future` DataFrame are mid-sized restaurant chains that may boom in popularity in the future, hence the DataFrame's name.\n",
    "\n",
    "The `future` DataFrame is sorted in descending order of 2021 `'Sales'`, which are reported in millions in dollars. The DataFrame also includes the percentage change in sales from 2020 to 2021 ('YOY_Sales'; YOY stands for \"Year-over-Year\"). The `'Location'` column refers to the city where the chain is headquartered, not to any specific location. \n",
    "\n",
    "Run the cell below to take a look at the `future` DataFrame, and [click here](https://www.restaurantbusinessonline.com/future-50-2022) to see the ranking on RB's website."
   ]
  },
  {
   "cell_type": "code",
   "execution_count": null,
   "metadata": {
    "scrolled": true
   },
   "outputs": [],
   "source": [
    "future"
   ]
  },
  {
   "cell_type": "markdown",
   "metadata": {},
   "source": [
    "The `independents` DataFrame contains information about the 100 highest-grossing independent restaurants in the US in 2021, sorted by `'Sales'` in decreasing order. Here, `'Sales'` are measured in dollars, not in millions of dollars. A restaurant is classified as \"independent\" if it has fewer than five locations; unlike in the `future` DataFrame, the `'City'` column here corresponds to the actual location of the restaurant."
   ]
  },
  {
   "cell_type": "code",
   "execution_count": null,
   "metadata": {},
   "outputs": [],
   "source": [
    "independents"
   ]
  },
  {
   "cell_type": "markdown",
   "metadata": {},
   "source": [
    "Finally, the `chain_restaurants` DataFrame contains information about the 250 largest restaurant chains in the US in 2020, sorted by `'Sales'` in decreasing order. Here, sales are measured in millions, so McDonald's sales value of `40517` really means \\$40.5 billion dollars.\n",
    "\n",
    "Run the cell below to take a look at the `chain_restaurants` DataFrame."
   ]
  },
  {
   "cell_type": "code",
   "execution_count": null,
   "metadata": {},
   "outputs": [],
   "source": [
    "chain_restaurants"
   ]
  },
  {
   "cell_type": "markdown",
   "metadata": {},
   "source": [
    "<a id='part1'></a>\n",
    "## Part 1 – Chains ⛓️\n",
    "\n",
    "Let's start by asking questions about the `chain_restaurants` DataFrame; we'll take a closer look at our other two DataFrames later."
   ]
  },
  {
   "cell_type": "markdown",
   "metadata": {},
   "source": [
    "### Question 1.1 \n",
    "**1 point**"
   ]
  },
  {
   "cell_type": "markdown",
   "metadata": {
    "deletable": false,
    "editable": false
   },
   "source": [
    "The `chain_restaurants` DataFrame has many columns that we aren't going to look at. Below, create a new DataFrame called `chains` with only has the columns `'Rank'`, `'Restaurant'`, `'Sales'`, `'YOY_Sales'`, and `'Segment_Category'` from the `chain_restaurants` DataFrame.\n",
    "\n",
    "<!--\n",
    "BEGIN QUESTION\n",
    "name: q1_1\n",
    "points: 1\n",
    "-->"
   ]
  },
  {
   "cell_type": "code",
   "execution_count": null,
   "metadata": {
    "scrolled": true
   },
   "outputs": [],
   "source": [
    "chains = ...\n",
    "chains"
   ]
  },
  {
   "cell_type": "code",
   "execution_count": null,
   "metadata": {
    "deletable": false,
    "editable": false
   },
   "outputs": [],
   "source": [
    "grader.check(\"q1_1\")"
   ]
  },
  {
   "cell_type": "markdown",
   "metadata": {
    "deletable": false,
    "editable": false
   },
   "source": [
    "### Question 1.2\n",
    "**1 point**\n",
    "\n",
    "We want to know the restaurant chain that ranks $n$th in RB's chain restaurant rankings; that is, the chain restaurant with the $n$th highest sales in 2020. But to do so for various values of $n$, we would have to write a long query every time. Create a function called `rank_chain` that takes as input a ranking $n$ between 1 and 250 and returns the name of the chain ranked $n$th. Example behavior of the function is shown below.\n",
    "\n",
    "```py\n",
    ">>> rank_chain(2)\n",
    "'Starbucks'\n",
    "\n",
    ">>> rank_chain(250)\n",
    "'Sizzler'\n",
    "```\n",
    "\n",
    "\n",
    "<!--\n",
    "BEGIN QUESTION\n",
    "name: q1_2\n",
    "-->"
   ]
  },
  {
   "cell_type": "code",
   "execution_count": null,
   "metadata": {},
   "outputs": [],
   "source": [
    "def rank_chain(n):\n",
    "    ..."
   ]
  },
  {
   "cell_type": "code",
   "execution_count": null,
   "metadata": {
    "deletable": false,
    "editable": false
   },
   "outputs": [],
   "source": [
    "grader.check(\"q1_2\")"
   ]
  },
  {
   "cell_type": "markdown",
   "metadata": {
    "deletable": false,
    "editable": false
   },
   "source": [
    "### Question 1.3\n",
    "**1 point**\n",
    "\n",
    "The `'Segment_Category'` describes the food and service of each chain. What are the most popular segment categories in `chains`?\n",
    "\n",
    "Create an array called `ordered_segment_categories` containing all the segment categories, ordered from the most popular segment category to the least popular segment category in `chains`. \n",
    "\n",
    "\n",
    "<!--\n",
    "BEGIN QUESTION\n",
    "name: q1_3\n",
    "-->"
   ]
  },
  {
   "cell_type": "code",
   "execution_count": null,
   "metadata": {},
   "outputs": [],
   "source": [
    "ordered_segment_categories = ...\n",
    "ordered_segment_categories"
   ]
  },
  {
   "cell_type": "code",
   "execution_count": null,
   "metadata": {
    "deletable": false,
    "editable": false
   },
   "outputs": [],
   "source": [
    "grader.check(\"q1_3\")"
   ]
  },
  {
   "cell_type": "markdown",
   "metadata": {
    "deletable": false,
    "editable": false
   },
   "source": [
    "### Question 1.4\n",
    "**1 point**\n",
    "\n",
    "In the previous question, we determined that the segment category that appeared most often was `'Casual Dining & Varied Menu'`. It's not immediately obvious what that means!\n",
    "\n",
    "Below, assign `casual_varied` to a DataFrame with only the rows in `chains` where the segment category was `'Casual Dining & Varied Menu'`. **Don't sort or make any other modifications**.\n",
    "\n",
    "<!--\n",
    "BEGIN QUESTION\n",
    "name: q1_4\n",
    "-->"
   ]
  },
  {
   "cell_type": "code",
   "execution_count": null,
   "metadata": {},
   "outputs": [],
   "source": [
    "casual_varied = ...\n",
    "casual_varied"
   ]
  },
  {
   "cell_type": "code",
   "execution_count": null,
   "metadata": {
    "deletable": false,
    "editable": false
   },
   "outputs": [],
   "source": [
    "grader.check(\"q1_4\")"
   ]
  },
  {
   "cell_type": "markdown",
   "metadata": {},
   "source": [
    "As you can see, the highest ranking `'Casual Dining & Varied Menu'` segment category restaurant chain is pretty high. You've probably heard of most of these chains before. The chain `'BJ's Restaurant & Brewhouse'` in the `casual_varied` DataFrame is a popular hangout spot for many UCSD students, as it's right near campus. Have you heard about their [giant pizookie platter](https://www.tiktok.com/@_breannabrooks/video/7483334772870106398)?\n",
    "\n",
    "Remember that the data that we work with as data scientists is more than just a bunch of numbers, it is based on the world around us."
   ]
  },
  {
   "cell_type": "markdown",
   "metadata": {
    "deletable": false,
    "editable": false
   },
   "source": [
    "### Question 1.5\n",
    "**2 points**\n",
    "\n",
    "In the last two questions, we looked at the most common segment categories in `chains`. But what if we are interested in determining the segment categories that averaged the most sales?\n",
    "\n",
    "Below, assign `top_selling_segments` to a DataFrame with two columns, `'Segment_Category'` and `'Average_Sales'`, such that:\n",
    "- Each row corresponds to a single segment category, and the `'Average_Sales'` column contains the average (mean) sales for each category.\n",
    "- Only the segment categories with average sales of over 1 billion dollars are included. (Note, \\$1 billion is equivalent to `1000` in our data's units.)\n",
    "- Rows are sorted by `'Average_Sales'` in decreasing order.\n",
    "\n",
    "The first few rows of `top_selling_segments` should look like this:\n",
    "\n",
    "|     | Segment_Category            |   Average_Sales     |\n",
    "-----:|----------------------------:|--------------------:|\n",
    " **0**| Quick Service & Burger      |         4550.944444 |\n",
    " **1**| Quick Service & Mexican     |         4178.000000 |\n",
    " **2**| Quick Service & Coffee Cafe |         3243.444444 |\n",
    "\n",
    "<!--\n",
    "BEGIN QUESTION\n",
    "name: q1_5\n",
    "points: 2\n",
    "-->"
   ]
  },
  {
   "cell_type": "code",
   "execution_count": null,
   "metadata": {},
   "outputs": [],
   "source": [
    "top_selling_segments = ...\n",
    "top_selling_segments"
   ]
  },
  {
   "cell_type": "code",
   "execution_count": null,
   "metadata": {
    "deletable": false,
    "editable": false
   },
   "outputs": [],
   "source": [
    "grader.check(\"q1_5\")"
   ]
  },
  {
   "cell_type": "markdown",
   "metadata": {
    "deletable": false,
    "editable": false
   },
   "source": [
    "### Question 1.6\n",
    "**2 points**\n",
    "\n",
    "Notice that many of the categories with high average sales include \"Quick Service\". Let us compare the \"Quick Service\" restaurant chains and the non-\"Quick Service\" chains. Find the difference between the average sales for all \"Quick Service\" restaurant chains and the average sales for all non-\"Quick Service\" chains in the `chains` DataFrame. Save the answer to `quick_sales_diff`.\n",
    "\n",
    "*Notes*: \n",
    "- If the segment category has the words \"Quick Service\" in it, it is considered a \"Quick Service\" chain.\n",
    "- Your answer should be positive.\n",
    "\n",
    "*Hint*: You can use the `-` operator on a boolean Series to negate the entire Series. Example behavior of the operation is shown below:\n",
    "\n",
    "```py\n",
    ">>> s = bpd.Series(np.array[False, True, True])\n",
    ">>> s\n",
    "0   False\n",
    "1   True\n",
    "1   True\n",
    ">>> -s\n",
    "0   True\n",
    "1   False\n",
    "1   False\n",
    "```\n",
    "\n",
    "\n",
    "<!--\n",
    "BEGIN QUESTION\n",
    "name: q1_6\n",
    "points: 2\n",
    "-->"
   ]
  },
  {
   "cell_type": "code",
   "execution_count": null,
   "metadata": {},
   "outputs": [],
   "source": [
    "quick_sales_diff = ...\n",
    "quick_sales_diff"
   ]
  },
  {
   "cell_type": "code",
   "execution_count": null,
   "metadata": {
    "deletable": false,
    "editable": false
   },
   "outputs": [],
   "source": [
    "grader.check(\"q1_6\")"
   ]
  },
  {
   "cell_type": "markdown",
   "metadata": {},
   "source": [
    "### Question 1.7\n",
    "**2 points**\n",
    "\n",
    "So far, we haven't really looked at the `'YOY_Sales'` column in `chains`. Remember, the values in `'YOY_Sales'` tell us the percentage change in sales from 2019 to 2020 for each restaurant chain (YOY means \"Year-over-Year\"); a `'YOY_Sales'` value of 8.6% means the restaurant earned 8.6% more in sales in 2020 than it did in 2019. A negative value for `'YOY_Sales'` means that a restaurant's sales decreased from 2019 to 2020."
   ]
  },
  {
   "cell_type": "code",
   "execution_count": null,
   "metadata": {},
   "outputs": [],
   "source": [
    "# Returns an array of the first five elements in the YOY_Sales column just for us to see\n",
    "np.array(chains.get('YOY_Sales').take(np.arange(5)))"
   ]
  },
  {
   "cell_type": "markdown",
   "metadata": {},
   "source": [
    "Since the values in the `'YOY_Sales'` column are stored as strings, not numbers, we can't reliably sort by `'YOY_Sales'`. (Try it out – if you sort by `'YOY_Sales'` in decreasing order, it will tell you the highest `'YOY_Sales'` any restaurant had was 9.50%, though there are several restaurants with `'YOY_Sales'` values of over 10%.)"
   ]
  },
  {
   "cell_type": "code",
   "execution_count": null,
   "metadata": {},
   "outputs": [],
   "source": [
    "# Use this cell for experimentation, if you want!\n"
   ]
  },
  {
   "cell_type": "markdown",
   "metadata": {
    "deletable": false,
    "editable": false
   },
   "source": [
    "#### Part a)\n",
    "**1 point**\n",
    "\n",
    "As we saw above, a string like `'4.80%'` doesn't help us. Write a function `percent_str_to_prop` that takes in a percentage string and returns the corresponding proportion, which should be a decimal between 0 and 1. Example behavior of the function is shown below.\n",
    "\n",
    "```py\n",
    ">>> percent_str_to_prop('4.80%')\n",
    "0.048\n",
    "\n",
    ">>> percent_str_to_prop('-15.8%')\n",
    "-0.158\n",
    "```\n",
    "\n",
    "<!--\n",
    "BEGIN QUESTION\n",
    "name: q1_7a\n",
    "-->"
   ]
  },
  {
   "cell_type": "code",
   "execution_count": null,
   "metadata": {},
   "outputs": [],
   "source": [
    "def percent_str_to_prop(pct_str):\n",
    "..."
   ]
  },
  {
   "cell_type": "code",
   "execution_count": null,
   "metadata": {
    "deletable": false,
    "editable": false
   },
   "outputs": [],
   "source": [
    "grader.check(\"q1_7a\")"
   ]
  },
  {
   "cell_type": "markdown",
   "metadata": {
    "deletable": false,
    "editable": false
   },
   "source": [
    "#### Part b)\n",
    "**1 point**\n",
    "\n",
    "Now that we have a function to change a percentage string into a decimal proportion, create a new DataFrame called `chains_YOY` which has the same columns as `chains`, except the values in the `'YOY_Sales'` column should be proportions.\n",
    "\n",
    "<!--\n",
    "BEGIN QUESTION\n",
    "name: q1_7b\n",
    "-->"
   ]
  },
  {
   "cell_type": "code",
   "execution_count": null,
   "metadata": {},
   "outputs": [],
   "source": [
    "chains_YOY = ...\n",
    "chains_YOY"
   ]
  },
  {
   "cell_type": "code",
   "execution_count": null,
   "metadata": {
    "deletable": false,
    "editable": false
   },
   "outputs": [],
   "source": [
    "grader.check(\"q1_7b\")"
   ]
  },
  {
   "cell_type": "markdown",
   "metadata": {
    "deletable": false,
    "editable": false
   },
   "source": [
    "### Question 1.8\n",
    "**1 point**\n",
    "\n",
    "The `'Sales'` data in the `chains` DataFrame comes from 2020. We want to find out what the sales were for 2019. Create a new column in `chains_YOY` named ``Sales_2019``, which contains the sales for each chain in 2019, in millions of dollars. \n",
    "\n",
    "<!--\n",
    "BEGIN QUESTION\n",
    "name: q1_8\n",
    "-->"
   ]
  },
  {
   "cell_type": "code",
   "execution_count": null,
   "metadata": {
    "scrolled": true
   },
   "outputs": [],
   "source": [
    "chains_YOY = ...\n",
    "chains_YOY"
   ]
  },
  {
   "cell_type": "code",
   "execution_count": null,
   "metadata": {
    "deletable": false,
    "editable": false
   },
   "outputs": [],
   "source": [
    "grader.check(\"q1_8\")"
   ]
  },
  {
   "cell_type": "markdown",
   "metadata": {
    "deletable": false,
    "editable": false
   },
   "source": [
    "### Question 1.9\n",
    "**1 point**\n",
    "\n",
    "The Year-over-Year sales metric may not be very intuitive for some. So let's categorize the `'YOY_Sales'` column into 5 categories as follows:\n",
    "\n",
    "| Growth Category | Interpretation | Year-over-Year Sales |\n",
    "| --- | --- | --- |\n",
    "| 5 | rapid increase | $\\geq 0.10$ |\n",
    "| 4 | steady increase | $[0.025, 0.10)$ |\n",
    "| 3 | stagnant | $[-0.025, 0.025)$ | \n",
    "| 2 | steady decrease | $[-0.10, -0.025)$ |\n",
    "| 1 | rapid decrease | $< -0.10$ |\n",
    "\n",
    "Remember, $[a, b)$ means greater than or equal to $a$ and less than $b$.\n",
    "\n",
    "Create a new DataFrame called `chains_growth` with all the columns in `chains_YOY` plus a sixth column called `'Growth_Category'` with the corresponding numerical growth category. The first few rows of `chains_growth` should look like this:\n",
    "\n",
    "|     |   Rank | Restaurant   |   Sales | YOY_Sales   | Segment_Category            | Sales_2019 | Growth_Category   |\n",
    "-----:|-------:|-------------:|--------:|------------:|----------------------------:|-:|------------------:|\n",
    " **0**|      1 | McDonald's   |   40517 | 0.003        | Quick Service & Burger      | 40395.812562\t |3   |\n",
    " **1**|      2 | Starbucks    |   18485 | -0.135       | Quick Service & Coffee Cafe | 21369.942197\t|1   |\n",
    " **2**|      3 | Chick-fil-A  |   13745 | 0.130      | Quick Service & Chicken     | 12163.716814|5    |\n",
    "\n",
    "<!--\n",
    "BEGIN QUESTION\n",
    "name: q1_9\n",
    "-->"
   ]
  },
  {
   "cell_type": "code",
   "execution_count": null,
   "metadata": {
    "scrolled": true
   },
   "outputs": [],
   "source": [
    "chains_growth = ...\n",
    "chains_growth"
   ]
  },
  {
   "cell_type": "code",
   "execution_count": null,
   "metadata": {
    "deletable": false,
    "editable": false
   },
   "outputs": [],
   "source": [
    "grader.check(\"q1_9\")"
   ]
  },
  {
   "cell_type": "markdown",
   "metadata": {
    "deletable": false,
    "editable": false
   },
   "source": [
    "### Question 1.10\n",
    "**1 point**\n",
    "\n",
    "Let's find the chains that earned the prestigious `'Growth_Category'` value of 5 (rapid increase). In the variable `rapid_growth_chains`, create an array of the names of such chains, sorted in alphabetical order.\n",
    "\n",
    "<!--\n",
    "BEGIN QUESTION\n",
    "name: q1_10\n",
    "-->"
   ]
  },
  {
   "cell_type": "code",
   "execution_count": null,
   "metadata": {
    "scrolled": true
   },
   "outputs": [],
   "source": [
    "rapid_growth_chains = ...\n",
    "rapid_growth_chains"
   ]
  },
  {
   "cell_type": "code",
   "execution_count": null,
   "metadata": {
    "deletable": false,
    "editable": false
   },
   "outputs": [],
   "source": [
    "grader.check(\"q1_10\")"
   ]
  },
  {
   "cell_type": "markdown",
   "metadata": {
    "deletable": false,
    "editable": false
   },
   "source": [
    "Do you know any of these restaurants? If not, maybe you will in a few years! 📈\n",
    "\n",
    "### Question 1.11\n",
    "**2 points**\n",
    "\n",
    "Since there are five possible values for `'Growth_Category'`, we might expect each growth category value to be associated with about $1/5 = 20\\%$ of restaurants. Let's see if that's the case. Set the variable `unpopular_growth_category` to the number (1 through 5) representing the growth category associated with the fewest number of restaurants. Set the variable `unpopular_proportion` to the proportion of restaurants with this growth category. \n",
    "\n",
    "<!--\n",
    "BEGIN QUESTION\n",
    "name: q1_11\n",
    "points: 2\n",
    "-->"
   ]
  },
  {
   "cell_type": "code",
   "execution_count": null,
   "metadata": {},
   "outputs": [],
   "source": [
    "unpopular_growth_category = ...\n",
    "unpopular_proportion = ...\n",
    "print(f\"The most unpopular growth category was {unpopular_growth_category}; the proportion of restaurants in this category was {unpopular_proportion}.\")"
   ]
  },
  {
   "cell_type": "code",
   "execution_count": null,
   "metadata": {
    "deletable": false,
    "editable": false
   },
   "outputs": [],
   "source": [
    "grader.check(\"q1_11\")"
   ]
  },
  {
   "cell_type": "markdown",
   "metadata": {},
   "source": [
    "This is a good time to pause and remember the nature of our data. Since we're looking at only the top 250 chain restaurants by 2020 sales, our data set does not accurately represent what was going on in the restaurant industry as a whole. We might see a very different distribution of growth categories if we were to look at a data set of the all chain restaurants instead of just the top 250. Understanding the context of how our data was collected is crucial to being able to interpret results and draw meaningful conclusions."
   ]
  },
  {
   "cell_type": "markdown",
   "metadata": {},
   "source": [
    "### Question 1.12\n",
    "**2 points**\n",
    "\n",
    "Earlier, we investigated how each segment category performed in terms of average sales for 2020. Now we'll compare segment categories by their growth category. \n",
    "\n",
    "Say you are looking to invest in some restaurant chains and instead of sales, you are more interested in growth, as determined by the `'Growth_Category'`. Plot a horizontal bar chart showing the mean growth category for the 20 segment categories with the highest mean growth categories. \n",
    "\n",
    "Use the bar chart to help you decide the best three segment categories of restaurants to invest in. Assign your result, as an array of three strings, to the variable `invest_segment_categories`. \n",
    "\n",
    "*Note*: It's okay to type by hand the values in `invest_segment_categories` after looking at your bar chart."
   ]
  },
  {
   "cell_type": "code",
   "execution_count": null,
   "metadata": {},
   "outputs": [],
   "source": [
    "# Make your bar chart here.\n",
    "invest_segment_categories = ...\n",
    "invest_segment_categories"
   ]
  },
  {
   "cell_type": "code",
   "execution_count": null,
   "metadata": {
    "deletable": false,
    "editable": false
   },
   "outputs": [],
   "source": [
    "grader.check(\"q1_12\")"
   ]
  },
  {
   "cell_type": "markdown",
   "metadata": {},
   "source": [
    "<a id='part2'></a>\n",
    "## Part 2 – Cities 🌆\n",
    "\n",
    "Awesome! Now that we've gotten a feel for the `chains` dataset, let's move on to the `future` and `independents` datasets. Since both datasets include location information, we'll focus on identifying \"hot food cities\". 🔥 \n",
    "\n",
    "Remember, the `future` DataFrame contains information about the fastest-growing chains with sales between \\\\$25 and \\\\$50 million – there's no overlap between the chains in `future` and the chains in `chains` since the \"smallest\" chain in `chains` made \\\\$96 million last year. In `future`,  we're given the locations where the chains are headquartered. In the `independents` DataFrame, the restaurants are not chains, so we're given their actual locations."
   ]
  },
  {
   "cell_type": "markdown",
   "metadata": {
    "deletable": false,
    "editable": false
   },
   "source": [
    "### Question 2.1\n",
    "**1 point**\n",
    "\n",
    "Let's start with the `independents` DataFrame. Unlike most of the restaurants in `chains`, many independent restaurants in our data set are 💲💲💲💲. Assign `most_expensive_restaurant` to a list containing the [`'Restaurant'`, `'City'`, `'Average Check'`] of the restaurant with the highest average check in the `independents` dataset. When creating this list, avoid typing the values by hand; get Python to extract the information for you.\n",
    "\n",
    "<!--\n",
    "BEGIN QUESTION\n",
    "name: q2_1\n",
    "-->"
   ]
  },
  {
   "cell_type": "code",
   "execution_count": null,
   "metadata": {},
   "outputs": [],
   "source": [
    "most_expensive_restaurant = ...\n",
    "most_expensive_restaurant"
   ]
  },
  {
   "cell_type": "code",
   "execution_count": null,
   "metadata": {
    "deletable": false,
    "editable": false
   },
   "outputs": [],
   "source": [
    "grader.check(\"q2_1\")"
   ]
  },
  {
   "cell_type": "markdown",
   "metadata": {
    "deletable": false,
    "editable": false
   },
   "source": [
    "### Question 2.2\n",
    "**1 point**\n",
    "\n",
    "Which restaurant in `independents` has the lowest sales per meal served? Assign the restaurant name to the variable `lowest_spm_restaurant` and also assign the sales per meal for this restaurant to `lowest_spm`.\n",
    "\n",
    "<!--\n",
    "BEGIN QUESTION\n",
    "name: q2_2\n",
    "-->"
   ]
  },
  {
   "cell_type": "code",
   "execution_count": null,
   "metadata": {},
   "outputs": [],
   "source": [
    "lowest_spm_restaurant = ...\n",
    "lowest_spm = ...\n",
    "print(f\"The restaurant with the lowest sales per meal is {lowest_spm_restaurant}; the sales per meal at this restaurant was {lowest_spm} dollars.\")\n"
   ]
  },
  {
   "cell_type": "code",
   "execution_count": null,
   "metadata": {
    "deletable": false,
    "editable": false
   },
   "outputs": [],
   "source": [
    "grader.check(\"q2_2\")"
   ]
  },
  {
   "cell_type": "markdown",
   "metadata": {},
   "source": [
    "### Question 2.3\n",
    "**1 point**\n",
    "\n",
    "Unless you spend a lot of time in Tennessee, chances are you've probably never heard of this restaurant. Here's how the restaurant describes itself on its [website](https://thepancakepantry.com/):\n",
    "\n",
    "*Since 1961, we’ve been serving scratch-made pancakes and much more to visitors and locals alike. We start every day bright and early at 6 o’clock in the morning, offering our full menu with 23 scratch-made varieties of pancakes, fresh-cooked eggs and omelets, waffles, and even sandwiches and salads.*\n",
    "\n",
    "Sorting `independents` by `Meals Served` shows that the `most_expensive_restaurant` served far fewer meals than the `lowest_spm_restaurant`, as you might expect. "
   ]
  },
  {
   "cell_type": "code",
   "execution_count": null,
   "metadata": {},
   "outputs": [],
   "source": [
    "independents.sort_values('Meals Served')"
   ]
  },
  {
   "cell_type": "markdown",
   "metadata": {},
   "source": [
    "This may make you wonder if more expensive restaurants serve fewer meals in general. Create an appropriate data visualization based on the `independents` DataFrame that helps you answer this question."
   ]
  },
  {
   "cell_type": "markdown",
   "metadata": {
    "deletable": false,
    "editable": false
   },
   "source": [
    "<!-- BEGIN QUESTION -->\n",
    "\n",
    "<!--\n",
    "BEGIN QUESTION\n",
    "name: q2_3\n",
    "manual: true\n",
    "-->"
   ]
  },
  {
   "cell_type": "code",
   "execution_count": null,
   "metadata": {},
   "outputs": [],
   "source": [
    "# Make your data visualization here."
   ]
  },
  {
   "cell_type": "markdown",
   "metadata": {},
   "source": [
    "<!-- END QUESTION -->\n",
    "\n",
    "\n",
    "\n",
    "### Question 2.4\n",
    "**3 points**\n",
    "\n",
    "Let's start working with the cities in the `independents` DataFrame. Run the following cell to get a feel for the type of cities that appear."
   ]
  },
  {
   "cell_type": "code",
   "execution_count": null,
   "metadata": {
    "scrolled": true
   },
   "outputs": [],
   "source": [
    "independents"
   ]
  },
  {
   "cell_type": "markdown",
   "metadata": {
    "deletable": false,
    "editable": false
   },
   "source": [
    "Some cities appear many times, like `'Miami'` and `'Miami Beach'` (which are actually two different cities). Others appear only once, like `'La Jolla'`.\n",
    "\n",
    "Below, assign `city_checks` to a DataFrame with index `'City'` and column `'Average Check'`, containing the **median** `'Average Check'` in all cities with at least 3 restaurants in the dataset, sorted by median `'Average Check'` in decreasing order. The first few rows of `city_checks` should look like this:\n",
    "\n",
    "<table border=\"1\" class=\"dataframe\">\n",
    "  <thead>\n",
    "    <tr style=\"text-align: right;\">\n",
    "      <th></th>\n",
    "      <th>Average Check</th>\n",
    "    </tr>\n",
    "    <tr>\n",
    "      <th>City</th>\n",
    "      <th></th>\n",
    "    </tr>\n",
    "  </thead>\n",
    "  <tbody>\n",
    "    <tr>\n",
    "      <th>Las Vegas</th>\n",
    "      <td>129.5</td>\n",
    "    </tr>\n",
    "    <tr>\n",
    "      <th>Miami Beach</th>\n",
    "      <td>129.0</td>\n",
    "    </tr>\n",
    "    <tr>\n",
    "      <th>Chicago</th>\n",
    "      <td>97.0</td>\n",
    "    </tr>\n",
    "  </tbody>\n",
    "</table>\n",
    "\n",
    "*Note*: This question is challenging and takes multiple steps, so feel free to break it down and use as many lines of code as you need.\n",
    "\n",
    "<!--\n",
    "BEGIN QUESTION\n",
    "name: q2_4\n",
    "points: 3\n",
    "-->"
   ]
  },
  {
   "cell_type": "code",
   "execution_count": null,
   "metadata": {
    "scrolled": true
   },
   "outputs": [],
   "source": [
    "city_checks = ...\n",
    "city_checks"
   ]
  },
  {
   "cell_type": "code",
   "execution_count": null,
   "metadata": {
    "deletable": false,
    "editable": false
   },
   "outputs": [],
   "source": [
    "grader.check(\"q2_4\")"
   ]
  },
  {
   "cell_type": "markdown",
   "metadata": {},
   "source": [
    "### Question 2.5\n",
    "**1 point**\n",
    "\n",
    "Now we'll look at the cities in the `future` DataFrame."
   ]
  },
  {
   "cell_type": "code",
   "execution_count": null,
   "metadata": {},
   "outputs": [],
   "source": [
    "future"
   ]
  },
  {
   "cell_type": "markdown",
   "metadata": {
    "deletable": false,
    "editable": false
   },
   "source": [
    "We're eventually going to want to merge `independents` and `future` by city, but right now we can't do that, since `future` does not have a column with just the name of the city in it. `future`'s `'Location'` column also includes the state's name.\n",
    "\n",
    "Below, create a DataFrame called `future_with_city` with the `'Rank'`, `'Restaurant'`, `'Sales'`, and `'YOY_Sales'` columns from `future` but with an additional column, `'City'`, that contains the name of the city in which the restaurant is headquartered. The first few rows of `future_with_city` are shown below; the order of the columns in `future_with_city` must match the output below.\n",
    "\n",
    "|    |   Rank | Restaurant   | City             |   Sales | YOY_Sales   |\n",
    "|-----:|-------:|-------------:|-----------------:|--------:|------------:|\n",
    "**0**     |      1 | Duck Donuts   | Mechanicsburg          |      50 | 28.50%      |\n",
    "**1**       |      2 | Just Salad  | New York        |      50 | 28.10%      |\n",
    "**2**       |      3 | Eggs Up Grill     | Spartanburg |      49 | 71.20%       |\n",
    "\n",
    "\n",
    "*Hint*: If you pass in a `list` of columns to `.get`, the resulting DataFrame will have only the columns you listed, in the order that you listed them.\n",
    "\n",
    "<!--\n",
    "BEGIN QUESTION\n",
    "name: q2_5\n",
    "-->"
   ]
  },
  {
   "cell_type": "code",
   "execution_count": null,
   "metadata": {},
   "outputs": [],
   "source": [
    "future_with_city = ...\n",
    "future_with_city"
   ]
  },
  {
   "cell_type": "code",
   "execution_count": null,
   "metadata": {
    "deletable": false,
    "editable": false
   },
   "outputs": [],
   "source": [
    "grader.check(\"q2_5\")"
   ]
  },
  {
   "cell_type": "markdown",
   "metadata": {
    "deletable": false,
    "editable": false
   },
   "source": [
    "### Question 2.6\n",
    "**3 points**\n",
    "\n",
    "We will say a \"hot food city\" is a city with at least one restaurant in the Independents 100 (`independents`) and at least one restaurant in the Future 50 (`future_with_city`).\n",
    "\n",
    "Below, create a DataFrame `hot_cities` indexed by `'City'` and having two columns,  `'Independents_100'` and `'Future_50'`. Each row should correspond to a hot food city, and the values in the columns should represent the number of restaurants in that city that appear on the Independents 100 and Future 50, respectively. The first few rows of `hot_cities` should look like this:\n",
    "\n",
    "<table border=\"1\" class=\"dataframe\">\n",
    "  <thead>\n",
    "    <tr style=\"text-align: right;\">\n",
    "      <th></th>\n",
    "      <th>Independents_100</th>\n",
    "      <th>Future_50</th>\n",
    "    </tr>\n",
    "    <tr>\n",
    "      <th>City</th>\n",
    "      <th></th>\n",
    "      <th></th>\n",
    "    </tr>\n",
    "  </thead>\n",
    "  <tbody>\n",
    "    <tr>\n",
    "      <th>Atlanta</th>\n",
    "      <td>2</td>\n",
    "      <td>2</td>\n",
    "    </tr>\n",
    "    <tr>\n",
    "      <th>Austin</th>\n",
    "      <td>2</td>\n",
    "      <td>1</td>\n",
    "    </tr>\n",
    "    <tr>\n",
    "      <th>Chicago</th>\n",
    "      <td>16</td>\n",
    "      <td>1</td>\n",
    "    </tr>\n",
    "  </tbody>\n",
    "</table>\n",
    "\n",
    "<!--\n",
    "BEGIN QUESTION\n",
    "name: q2_6\n",
    "points: 3\n",
    "-->"
   ]
  },
  {
   "cell_type": "code",
   "execution_count": null,
   "metadata": {},
   "outputs": [],
   "source": [
    "hot_cities = ...\n",
    "hot_cities"
   ]
  },
  {
   "cell_type": "code",
   "execution_count": null,
   "metadata": {
    "deletable": false,
    "editable": false
   },
   "outputs": [],
   "source": [
    "grader.check(\"q2_6\")"
   ]
  },
  {
   "cell_type": "markdown",
   "metadata": {
    "deletable": false,
    "editable": false
   },
   "source": [
    "<!-- BEGIN QUESTION -->\n",
    "\n",
    "### Question 2.7\n",
    "**1 point**\n",
    "\n",
    "For each city in `hot_cities`, let us define the \"food hotness\" of a city as the sum of the `Independents_100` and `Future_50` columns of `hot_cities`. In other words, the food hotness of a city is the total number of restaurants in `independents` located in that city plus the total number of mid-size chains in `future` headquartered there. \n",
    "\n",
    "To visualize the `hot_cities` DataFrame, create an overlaid horizontal bar chart showing, for each hot food city, how many of that city's restaurants appear on the Independents 100 rankings, and how many appear on the Future 50 rankings. \n",
    "\n",
    "Organize the cities so that the city with the highest food hotness appears at the top of the bar chart, and the city with the lowest food hotness appears at the bottom. While you will use food hotness to order the bars in your bar chart, each city should just have two bars, one for the Independents 100 and the other for the Future 50.\n",
    "\n",
    "\n",
    "\n",
    "<!--\n",
    "BEGIN QUESTION\n",
    "name: q2_7\n",
    "manual: true\n",
    "-->"
   ]
  },
  {
   "cell_type": "code",
   "execution_count": null,
   "metadata": {},
   "outputs": [],
   "source": [
    "# Make your overlaid horizontal bar chart here."
   ]
  },
  {
   "cell_type": "markdown",
   "metadata": {},
   "source": [
    "<!-- END QUESTION -->\n",
    "\n",
    "\n",
    "\n",
    "### Question 2.8\n",
    "**2 points**\n",
    "\n",
    "Now, we want to compare the food hotness of a city with its population. Is it simply the case that larger cities are considered hotter because they have larger populations? How do we measure the \"foodiness\" of a city, taking into account its population?\n",
    "\n",
    "Use the `populations` dataset loaded below to visually compare food hotness and 2021 population using a scatter plot. Then assign to `foodiest_city` the name of the city with the highest food hotness per capita. Food lovers, this is where you might want to plan your next vacation! ✈️\n"
   ]
  },
  {
   "cell_type": "code",
   "execution_count": null,
   "metadata": {
    "scrolled": true
   },
   "outputs": [],
   "source": [
    "populations = bpd.read_csv(\"data/populations.csv\")\n",
    "populations"
   ]
  },
  {
   "cell_type": "code",
   "execution_count": null,
   "metadata": {},
   "outputs": [],
   "source": [
    "# Make your scatter plot here.\n",
    "foodiest_city = ...\n",
    "foodiest_city"
   ]
  },
  {
   "cell_type": "code",
   "execution_count": null,
   "metadata": {
    "deletable": false,
    "editable": false
   },
   "outputs": [],
   "source": [
    "grader.check(\"q2_8\")"
   ]
  },
  {
   "cell_type": "markdown",
   "metadata": {},
   "source": [
    "<a id='part3'></a>\n",
    "## Part 3 – Stars ⭐️\n",
    "\n",
    "So far, we have been looking at restaurant data from a company that provides business intelligence for restaurants. Therefore, our data has focused on important business concepts, like sales and growth. But are these profitable, fast-growing restaurants actually serving up delicious food that we want to eat? For that information, we ask the people of Yelp. \n",
    "\n",
    "In this section, we'll work with a dataset of Yelp ratings from January 2023 for the 100 restaurants in `independents`. In the cell below, we load in our Yelp data as a DataFrame called `ratings`."
   ]
  },
  {
   "cell_type": "code",
   "execution_count": null,
   "metadata": {},
   "outputs": [],
   "source": [
    "ratings = bpd.read_csv('data/Yelp.csv')\n",
    "ratings"
   ]
  },
  {
   "cell_type": "markdown",
   "metadata": {},
   "source": [
    "### Question 3.1\n",
    "**1 point**\n",
    "\n",
    "Notice that in the `independents` DataFrame, certain rows include the city name in parentheses as part of the restaurant name. An example is shown below."
   ]
  },
  {
   "cell_type": "code",
   "execution_count": null,
   "metadata": {},
   "outputs": [],
   "source": [
    "independents.take([3])"
   ]
  },
  {
   "cell_type": "markdown",
   "metadata": {},
   "source": [
    "This will be problematic if we try to merge the `independents` DataFrame and the `ratings` DataFrame, since `ratings` does not necessarily contain the city in parentheses in the `'Restaurant'` column.\n",
    "\n",
    "To fix this, write a function called `remove_location`, which takes in a string value containing the restaurant name and removes any location information listed within parentheses. Example behavior of the function is shown below.\n",
    "\n",
    "```py\n",
    ">>> remove_location('Maple & Ash (Chicago)')\n",
    "'Maple & Ash'\n",
    "\n",
    ">>> remove_location('Beauty & Essex (New York City)')\n",
    "'Beauty & Essex'\n",
    "\n",
    ">>> remove_location('Casa Tua Miami')\n",
    "'Casa Tua Miami'\n",
    "```\n",
    "\n",
    "Then, create two new DataFrames, `independents_to_merge` and `ratings_to_merge` with the same data as `independents` and `ratings`, except with no locations in parentheses in the `'Restaurant'` column.\n",
    "\n",
    "*Hints:* \n",
    "- You may find the string method [index()](https://www.w3schools.com/python/ref_string_index.asp) useful for this question.  \n",
    "- Make sure to remove any spaces that may be in front of the parentheses. "
   ]
  },
  {
   "cell_type": "code",
   "execution_count": null,
   "metadata": {},
   "outputs": [],
   "source": [
    "def remove_location(name):\n",
    "    ...\n",
    "    "
   ]
  },
  {
   "cell_type": "code",
   "execution_count": null,
   "metadata": {
    "deletable": false,
    "editable": false
   },
   "outputs": [],
   "source": [
    "grader.check(\"q3_1\")"
   ]
  },
  {
   "cell_type": "markdown",
   "metadata": {},
   "source": [
    "### Question 3.2\n",
    "**1 point**\n",
    "\n",
    "It's worth thinking about why our Yelp review data includes `'City'` – isn't it enough to just have the name of the restaurant and its rating?\n",
    "\n",
    "Well, no – not if there are multiple restaurants with the same name! Below, assign `duplicate_restaurants` to an array containing the names of restaurants in `independents_to_merge` that appear more than once. You don't need to sort them in any particular order."
   ]
  },
  {
   "cell_type": "code",
   "execution_count": null,
   "metadata": {
    "scrolled": true
   },
   "outputs": [],
   "source": [
    "duplicate_restaurants = ...\n",
    "duplicate_restaurants"
   ]
  },
  {
   "cell_type": "code",
   "execution_count": null,
   "metadata": {
    "deletable": false,
    "editable": false
   },
   "outputs": [],
   "source": [
    "grader.check(\"q3_2\")"
   ]
  },
  {
   "cell_type": "markdown",
   "metadata": {},
   "source": [
    "Next, we'll create a new DataFrame called `independents_with_ratings` by merging `independents_to_merge` and `ratings_to_merge` on both `'Restaurant'` and `'City'`.\n",
    "\n",
    "We need to merge by both columns to correctly handle the duplicate restaurants we identified above. Think about what would happen if we merged by only `'Restaurant'`.\n",
    "\n",
    "We haven't yet seen how to merge two DataFrames on multiple columns, but it turns out that if you just omit all the optional parameters in the call to `merge`, the DataFrames will be merged on all column labels that are common to both DataFrames.\n",
    "\n",
    "Recall the column names of the `independents_to_merge` and `ratings_to_merge` DataFrames by running the next two cells."
   ]
  },
  {
   "cell_type": "code",
   "execution_count": null,
   "metadata": {
    "scrolled": true
   },
   "outputs": [],
   "source": [
    "independents_to_merge.columns"
   ]
  },
  {
   "cell_type": "code",
   "execution_count": null,
   "metadata": {},
   "outputs": [],
   "source": [
    "ratings_to_merge.columns"
   ]
  },
  {
   "cell_type": "markdown",
   "metadata": {},
   "source": [
    "The column names appearing in both DataFrames are exactly `'Restaurant'` and `'City'`, the two columns we want to merge on. This makes our call to `merge` simple. Run the cell below to merge the two DataFrames based on `'Restaurant'` and `'City'`."
   ]
  },
  {
   "cell_type": "code",
   "execution_count": null,
   "metadata": {
    "scrolled": true
   },
   "outputs": [],
   "source": [
    "independents_with_ratings = independents_to_merge.merge(ratings_to_merge) \n",
    "independents_with_ratings"
   ]
  },
  {
   "cell_type": "markdown",
   "metadata": {
    "deletable": false,
    "editable": false
   },
   "source": [
    "### Question 3.3\n",
    "**2 points**\n",
    "\n",
    "For each state, find the proportion of independent restaurants in that state that have at least a 4 star rating. Save your result to a `Series` called `state_proportions` indexed by state name and sorted in ascending order.\n",
    "\n",
    "<!--\n",
    "BEGIN QUESTION\n",
    "name: q3_3\n",
    "points: 2\n",
    "-->"
   ]
  },
  {
   "cell_type": "code",
   "execution_count": null,
   "metadata": {},
   "outputs": [],
   "source": [
    "state_proportions = ...\n",
    "state_proportions"
   ]
  },
  {
   "cell_type": "code",
   "execution_count": null,
   "metadata": {
    "deletable": false,
    "editable": false
   },
   "outputs": [],
   "source": [
    "grader.check(\"q3_3\")"
   ]
  },
  {
   "cell_type": "markdown",
   "metadata": {
    "deletable": false,
    "editable": false
   },
   "source": [
    "<!-- BEGIN QUESTION -->\n",
    "\n",
    "### Question 3.4\n",
    "**1 point**\n",
    "\n",
    "Are higher-rated restaurants more expensive? Make a vertical bar chart of restaurant `'Rating'` versus **median**`'Average Check'` to see if there is an association between these variables. Note that we're thinking of `'Rating'` as a categorical variable here.\n",
    "\n",
    "<!--\n",
    "BEGIN QUESTION\n",
    "name: q3_4\n",
    "manual: true\n",
    "-->"
   ]
  },
  {
   "cell_type": "code",
   "execution_count": null,
   "metadata": {
    "scrolled": true
   },
   "outputs": [],
   "source": [
    "# Make your vertical bar chart here."
   ]
  },
  {
   "cell_type": "markdown",
   "metadata": {},
   "source": [
    "<!-- END QUESTION -->\n",
    "\n",
    "\n",
    "\n",
    "You should be able to see that higher-rated restaurants are more expensive, which should not be too surprising."
   ]
  },
  {
   "cell_type": "markdown",
   "metadata": {
    "deletable": false,
    "editable": false
   },
   "source": [
    "### Question 3.5\n",
    "**3 points**\n",
    "\n",
    "In the previous question, we thought of `'Rating'` as a categorical variable. Now let's treat `'Rating'` as a numerical variable and look at its distribution to understand what kind of ratings the restaurants in `independents_with_ratings` receive. \n",
    "\n",
    "#### Part a)\n",
    "**1 point**\n",
    "\n",
    "Set the variable `rating_bins` to an array of values such that:\n",
    "- a  histogram of `'Rating'` with these bins has each distinct value of `'Rating'` in a separate bin, \n",
    "- there are no spaces between the bins, \n",
    "- the first bin includes the lowest value in the `'Rating'` column, and \n",
    "- the last bin includes the highest value in the `'Rating'` column.\n",
    "\n",
    "<!--\n",
    "BEGIN QUESTION\n",
    "name: q3_5a\n",
    "-->\n"
   ]
  },
  {
   "cell_type": "code",
   "execution_count": null,
   "metadata": {},
   "outputs": [],
   "source": [
    "rating_bins = ...\n",
    "independents_with_ratings.plot(kind='hist', y='Rating', bins = rating_bins, density=True, ec='w');"
   ]
  },
  {
   "cell_type": "code",
   "execution_count": null,
   "metadata": {
    "deletable": false,
    "editable": false
   },
   "outputs": [],
   "source": [
    "grader.check(\"q3_5a\")"
   ]
  },
  {
   "cell_type": "markdown",
   "metadata": {
    "deletable": false,
    "editable": false
   },
   "source": [
    "#### Part b)\n",
    "**1 point**\n",
    "\n",
    "Your histogram should show you that very few restaurants in `independents_with_ratings` got the lowest rating. In fact, there are only five! Set `worst_restaurants` to an array with the names of these restaurant, and get the average of `Average Check` of these five restaurants and assign this value to the variable `worst_avg_check`.\n",
    "<!--\n",
    "BEGIN QUESTION\n",
    "name: q3_5b\n",
    "-->"
   ]
  },
  {
   "cell_type": "code",
   "execution_count": null,
   "metadata": {
    "scrolled": true
   },
   "outputs": [],
   "source": [
    "worst_restaurants = ...\n",
    "worst_avg_check = ...\n",
    "\n",
    "print(f\"The worst restaurants are {worst_restaurants}; the average check at these restaurant is {worst_avg_check} dollars.\")\n"
   ]
  },
  {
   "cell_type": "code",
   "execution_count": null,
   "metadata": {
    "deletable": false,
    "editable": false
   },
   "outputs": [],
   "source": [
    "grader.check(\"q3_5b\")"
   ]
  },
  {
   "cell_type": "markdown",
   "metadata": {
    "deletable": false,
    "editable": false
   },
   "source": [
    "\n",
    "\n",
    "#### Part c)\n",
    "**1 point**\n",
    "\n",
    "In a density histogram, it can be hard to tell the exact height of a bar from looking at the histogram, but if you know the data from which the histogram was generated, you should be able to figure it out. Use `independents_with_ratings` to determine the exact height of the bar in the histogram that corresponds to restaurants with a rating of 3.5 stars. Save your result as `hist_height`.\n",
    "\n",
    "*Hint*: You can check if your answer is approximately correct by inspecting the histogram in Part (a).\n",
    "\n",
    "<!--\n",
    "BEGIN QUESTION\n",
    "name: q3_5c\n",
    "-->"
   ]
  },
  {
   "cell_type": "code",
   "execution_count": null,
   "metadata": {},
   "outputs": [],
   "source": [
    "hist_height = ...\n",
    "hist_height"
   ]
  },
  {
   "cell_type": "code",
   "execution_count": null,
   "metadata": {
    "deletable": false,
    "editable": false
   },
   "outputs": [],
   "source": [
    "grader.check(\"q3_5c\")"
   ]
  },
  {
   "cell_type": "markdown",
   "metadata": {
    "deletable": false,
    "editable": false
   },
   "source": [
    "### Question 3.6\n",
    "**3 points**\n",
    "\n",
    "Lastly, we want to examine the relationship between average check and star rating, separately in each city. To do this, we can use `.groupby` with subgroups. Create a DataFrame called `check_by_city_and_rating` that shows the **median** `'Average Check'` value of restaurants for each city-rating combination. Since there are many such pairs, limit their number in two ways:\n",
    "- Only include cities that have at least three restaurants in `independents_with_ratings`.\n",
    "- Only include full stars earned in the rating. For example, a rating of 3.5 should be counted the same as a rating of 3.0 for this problem.\n",
    "\n",
    "The first few rows of `check_by_city_and_rating` should look like this:\n",
    "\n",
    "<table border=\"1\" class=\"dataframe\">\n",
    "  <thead>\n",
    "    <tr style=\"text-align: right;\">\n",
    "      <th></th>\n",
    "      <th></th>\n",
    "      <th>Average Check</th>\n",
    "    </tr>\n",
    "    <tr>\n",
    "      <th>City</th>\n",
    "      <th>Rounded_Rating</th>\n",
    "      <th></th>\n",
    "    </tr>\n",
    "  </thead>\n",
    "  <tbody>\n",
    "    <tr>\n",
    "      <th rowspan=\"2\" valign=\"top\">Chicago</th>\n",
    "      <th>3.0</th>\n",
    "      <td>82.0</td>\n",
    "    </tr>\n",
    "    <tr>\n",
    "      <th>4.0</th>\n",
    "      <td>99.0</td>\n",
    "    </tr>\n",
    "    <tr>\n",
    "      <th rowspan=\"2\" valign=\"top\">Fort Lauderdale</th>\n",
    "      <th>3.0</th>\n",
    "      <td>72.0</td>\n",
    "    </tr>\n",
    "    <tr>\n",
    "      <th>4.0</th>\n",
    "      <td>68.0</td>\n",
    "    </tr>\n",
    "    <tr>\n",
    "      <th>Las Vegas</th>\n",
    "      <th>3.0</th>\n",
    "      <td>122.0</td>\n",
    "    </tr>\n",
    "  </tbody>\n",
    "</table>\n",
    "\n",
    "*Hint*: The function `np.floor` should be useful here. Feel free to look up what it does.\n",
    "\n",
    "*Note*: This question is similar to Question 2.4, where we looked at the median `'Average Check'` by city. Referring back to how you solved that problem might be helpful. As with Question 2.4, this is a challenging problem that takes multiple steps, so feel free to break it down and use as many lines of code as you need.\n",
    "\n",
    "\n",
    "<!--\n",
    "BEGIN QUESTION\n",
    "name: q3_6\n",
    "points: 3\n",
    "-->"
   ]
  },
  {
   "cell_type": "code",
   "execution_count": null,
   "metadata": {},
   "outputs": [],
   "source": [
    "check_by_city_and_rating = ...\n",
    "check_by_city_and_rating"
   ]
  },
  {
   "cell_type": "code",
   "execution_count": null,
   "metadata": {
    "deletable": false,
    "editable": false
   },
   "outputs": [],
   "source": [
    "grader.check(\"q3_6\")"
   ]
  },
  {
   "cell_type": "markdown",
   "metadata": {},
   "source": [
    "## Congratulations! You've completed the Midterm Project!\n",
    "\n",
    "Just a few things left:\n",
    "\n",
    "**_Citations:_** Did you use any generative artificial intelligence tools to assist you on this assignment? If so, please state, for each tool you used, the name of the tool (ex. ChatGPT) and the problem(s) in this assignment where you used the tool for help.\n",
    "\n",
    "<hr style=\"color:Maroon;background-color:Maroon;border:0 none; height: 3px;\">\n",
    "\n",
    "Please cite tools here.\n",
    "\n",
    "<hr style=\"color:Maroon;background-color:Maroon;border:0 none; height: 3px;\">\n",
    "\n",
    "## Submission Instructions 📧\n",
    "\n",
    "As usual, follow these steps to submit your assignment:\n",
    "\n",
    "Select `Kernel -> Restart & Run All` to ensure that you have executed all cells, including the test cells.\n",
    "1. Read through the notebook to make sure everything is fine and all tests passed.\n",
    "1. Run the cell below to run all tests, and make sure that they all pass.\n",
    "1. Download your notebook using `File -> Download as -> Notebook (.ipynb)`, then upload your notebook to Gradescope. \n",
    "1. If working with a partner, don't forget to add your partner as a group member on Gradescope!\n",
    "1. Stick around while the Gradescope autograder grades your work. Make sure you see that all tests have passed on Gradescope.\n",
    "1. Check that you have a confirmation email from Gradescope and save it as proof of your submission.\n",
    "\n",
    "If running all the tests at once causes a test to fail that didn't fail when you ran the notebook in order, check to see if you changed a variable's value later in your code. Make sure to use new variable names instead of reusing ones that are used in the tests. \n",
    "\n",
    "Remember, the tests here and on Gradescope just check the format of your answers. We will run correctness tests after the due date has passed."
   ]
  },
  {
   "cell_type": "code",
   "execution_count": null,
   "metadata": {},
   "outputs": [],
   "source": [
    "grader.check_all()"
   ]
  }
 ],
 "metadata": {
  "interpreter": {
   "hash": "aee8b7b246df8f9039afb4144a1f6fd8d2ca17a180786b69acc140d282b71a49"
  },
  "kernelspec": {
   "display_name": "Python 3 (ipykernel)",
   "language": "python",
   "name": "python3"
  },
  "language_info": {
   "codemirror_mode": {
    "name": "ipython",
    "version": 3
   },
   "file_extension": ".py",
   "mimetype": "text/x-python",
   "name": "python",
   "nbconvert_exporter": "python",
   "pygments_lexer": "ipython3",
   "version": "3.9.5"
  },
  "toc": {
   "base_numbering": 1,
   "nav_menu": {},
   "number_sections": true,
   "sideBar": true,
   "skip_h1_title": false,
   "title_cell": "Table of Contents",
   "title_sidebar": "Contents",
   "toc_cell": false,
   "toc_position": {},
   "toc_section_display": true,
   "toc_window_display": false
  }
 },
 "nbformat": 4,
 "nbformat_minor": 4
}
